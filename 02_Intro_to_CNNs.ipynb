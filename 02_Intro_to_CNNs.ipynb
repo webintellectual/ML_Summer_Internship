{
 "cells": [
  {
   "cell_type": "code",
   "execution_count": 3,
   "metadata": {},
   "outputs": [],
   "source": [
    "from keras.layers import Input\n",
    "from keras.layers import Conv2D\n",
    "from keras.models import Sequential"
   ]
  },
  {
   "cell_type": "code",
   "execution_count": 7,
   "metadata": {},
   "outputs": [],
   "source": [
    "def create_cnn():\n",
    "    cnn = Sequential()\n",
    "    cnn.add(Input(shape=(10,10,1,)))\n",
    "    cnn.add(Conv2D(filters=20,kernel_size=3,activation=\"relu\"))\n",
    "    cnn.add(Conv2D(filters=50,kernel_size=7,activation=\"relu\"))\n",
    "    return cnn"
   ]
  },
  {
   "cell_type": "code",
   "execution_count": 6,
   "metadata": {},
   "outputs": [],
   "source": [
    "cnn = create_cnn()"
   ]
  },
  {
   "cell_type": "code",
   "execution_count": 7,
   "metadata": {},
   "outputs": [
    {
     "name": "stdout",
     "output_type": "stream",
     "text": [
      "Model: \"sequential\"\n",
      "_________________________________________________________________\n",
      " Layer (type)                Output Shape              Param #   \n",
      "=================================================================\n",
      " conv2d (Conv2D)             (None, 8, 8, 20)          200       \n",
      "                                                                 \n",
      " conv2d_1 (Conv2D)           (None, 2, 2, 50)          49050     \n",
      "                                                                 \n",
      "=================================================================\n",
      "Total params: 49250 (192.38 KB)\n",
      "Trainable params: 49250 (192.38 KB)\n",
      "Non-trainable params: 0 (0.00 Byte)\n",
      "_________________________________________________________________\n"
     ]
    }
   ],
   "source": [
    "cnn.summary()"
   ]
  },
  {
   "attachments": {},
   "cell_type": "markdown",
   "metadata": {},
   "source": [
    "<hr>\n",
    "Start of Assignment"
   ]
  },
  {
   "attachments": {},
   "cell_type": "markdown",
   "metadata": {},
   "source": [
    "Asssigment: Write a code to develop a CNN with the help of Keras library, which takes an input image of size (512, 512, 3) and outputs an image of size (1, 1, 512)"
   ]
  },
  {
   "attachments": {},
   "cell_type": "markdown",
   "metadata": {},
   "source": [
    "**Solution:** <br>\n",
    "Let's use use one conv2D layer. Clearly filters = 512. <br>\n",
    "Given: I = 512, size(output) = 1 <br>\n",
    "$ \\bigg \\lfloor \\frac{I-H+2P}{S} \\bigg \\rfloor + 1= size(output)$\n",
    "$$\\bigg \\lfloor \\frac{512-H+2P}{S} \\bigg \\rfloor +1 = 1$$\n",
    "$$\\bigg \\lfloor \\frac{512-H+2P}{S} \\bigg \\rfloor = 0$$\n",
    "$$0 < \\frac{512-H+2P}{S} < 1$$\n",
    "$$0 < 512-H+2P < S$$\n",
    "$512-H+2P>0$ and $S>512-H+2P$ <br> <br>\n",
    "$P>\\frac{H-512}{2}$ and $S>512-H+2P$ <br>\n",
    "Let's get get some values from equation 1 by trial such that they satisfy second eqn too <br>\n",
    "Let, H = 513, then P > 1/2. Let P = 1.<br>\n",
    "Then, S > 1, Let's take S = 2"
   ]
  },
  {
   "cell_type": "code",
   "execution_count": 24,
   "metadata": {},
   "outputs": [],
   "source": [
    "from keras.layers import ZeroPadding2D; # for specifying padding we need this additional layer"
   ]
  },
  {
   "cell_type": "code",
   "execution_count": 26,
   "metadata": {},
   "outputs": [],
   "source": [
    "def create_cnn2():\n",
    "    cnn = Sequential()\n",
    "    cnn.add(Input(shape=(512,512,3,)))\n",
    "    cnn.add(ZeroPadding2D(padding=1))\n",
    "    cnn.add(Conv2D(filters=512,kernel_size=513,strides=2,activation=\"relu\"))\n",
    "    return cnn"
   ]
  },
  {
   "cell_type": "code",
   "execution_count": 27,
   "metadata": {},
   "outputs": [],
   "source": [
    "cnn2 = create_cnn2()"
   ]
  },
  {
   "cell_type": "code",
   "execution_count": 28,
   "metadata": {},
   "outputs": [
    {
     "name": "stdout",
     "output_type": "stream",
     "text": [
      "Model: \"sequential_7\"\n",
      "_________________________________________________________________\n",
      " Layer (type)                Output Shape              Param #   \n",
      "=================================================================\n",
      " zero_padding2d_2 (ZeroPadd  (None, 514, 514, 3)       0         \n",
      " ing2D)                                                          \n",
      "                                                                 \n",
      " conv2d_7 (Conv2D)           (None, 1, 1, 512)         404228096 \n",
      "                                                                 \n",
      "=================================================================\n",
      "Total params: 404228096 (1.51 GB)\n",
      "Trainable params: 404228096 (1.51 GB)\n",
      "Non-trainable params: 0 (0.00 Byte)\n",
      "_________________________________________________________________\n"
     ]
    }
   ],
   "source": [
    "cnn2.summary()"
   ]
  },
  {
   "attachments": {},
   "cell_type": "markdown",
   "metadata": {},
   "source": [
    "End of assignment.\n",
    "<hr>"
   ]
  }
 ],
 "metadata": {
  "kernelspec": {
   "display_name": "mlintern",
   "language": "python",
   "name": "python3"
  },
  "language_info": {
   "codemirror_mode": {
    "name": "ipython",
    "version": 3
   },
   "file_extension": ".py",
   "mimetype": "text/x-python",
   "name": "python",
   "nbconvert_exporter": "python",
   "pygments_lexer": "ipython3",
   "version": "3.9.6"
  },
  "orig_nbformat": 4
 },
 "nbformat": 4,
 "nbformat_minor": 2
}
